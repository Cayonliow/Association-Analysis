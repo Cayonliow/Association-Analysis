{
 "cells": [
  {
   "cell_type": "markdown",
   "metadata": {},
   "source": [
    "# Association Analysis on Data Mining"
   ]
  },
  {
   "cell_type": "code",
   "execution_count": 1,
   "metadata": {},
   "outputs": [],
   "source": [
    "import numpy as np\n",
    "from pprint import pprint\n",
    "from decimal import *\n",
    "import apriori\n",
    "import fpgrowth\n",
    "import csv\n",
    "import sys"
   ]
  },
  {
   "cell_type": "markdown",
   "metadata": {},
   "source": [
    "## Apriori Algorithm"
   ]
  },
  {
   "cell_type": "code",
   "execution_count": 2,
   "metadata": {},
   "outputs": [
    {
     "name": "stdout",
     "output_type": "stream",
     "text": [
      "Rule  1   ('472', '885')  ->  732  confidence: 94 % support: 0.10838\n",
      "Rule  2   ('472', '833')  ->  732  confidence: 94 % support: 0.10327\n",
      "Rule  3   ('732', '833')  ->  472  confidence: 93 % support: 0.10327\n",
      "Rule  4   ('833', '885')  ->  732  confidence: 93 % support: 0.10123\n",
      "Rule  5   ('732', '885')  ->  472  confidence: 92 % support: 0.10838\n",
      "Rule  6   ('472', '737')  ->  732  confidence: 92 % support: 0.10634\n",
      "Rule  7   ('472', '885')  ->  737  confidence: 91 % support: 0.10532\n"
     ]
    }
   ],
   "source": [
    "model = apriori.Apriori(0.1, 0.9)\n",
    "rules = model.find_rules('dataset.txt')\n",
    "c = 1\n",
    "for keys in rules[:7]:\n",
    "    p = list(keys[0:1])\n",
    "    q = list(keys[1])\n",
    "    r = p[0]\n",
    "    print('Rule ', c, ' ', r[:2], ' -> ', r[2:][0], ' confidence:', int(q[0]*100),'%', 'support:', round(q[1], 5))\n",
    "    c += 1"
   ]
  },
  {
   "cell_type": "markdown",
   "metadata": {},
   "source": [
    "## FP-growth"
   ]
  },
  {
   "cell_type": "code",
   "execution_count": 3,
   "metadata": {},
   "outputs": [
    {
     "name": "stdout",
     "output_type": "stream",
     "text": [
      "Rule  1   ('472', '833')  ->  732  confidence: 94 % support: 0.10327\n",
      "Rule  2   ('732', '833')  ->  472  confidence: 93 % support: 0.10327\n",
      "Rule  3   ('833', '885')  ->  732  confidence: 93 % support: 0.10123\n",
      "Rule  4   ('732', '885')  ->  472  confidence: 92 % support: 0.10838\n",
      "Rule  5   ('472', '737')  ->  732  confidence: 92 % support: 0.10634\n",
      "Rule  6   ('732', '833')  ->  885  confidence: 91 % support: 0.10123\n",
      "Rule  7   ('472', '732')  ->  885  confidence: 91 % support: 0.10838\n"
     ]
    }
   ],
   "source": [
    "transactions = [ [] ] * 978\n",
    "total = 0\n",
    "with open('dataset.txt') as f:\n",
    "    for n,l in enumerate(f):\n",
    "        total = n + 1\n",
    "        transactions[n] =l.strip('\\n').strip(' ').split(',')\n",
    "rules = fpgrowth.fpgrowth(transactions, 98, 0.9, total)\n",
    "r = sorted(rules,reverse = True)\n",
    "\n",
    "e = {}\n",
    "max = 0\n",
    "for i in range(len(rules)):\n",
    "    for key in rules:\n",
    "        if rules[key][2] > max:\n",
    "            max = rules[key][2]\n",
    "            k = key\n",
    "    e[i] = rules[k]\n",
    "    del rules[k]\n",
    "    max = 0\n",
    "\n",
    "c=0\n",
    "for key in e:\n",
    "    if c < 7:\n",
    "        print('Rule ', key+1, ' ', e[key][0], ' -> ', e[key][1][0], ' confidence:', int(e[key][2]*100), '%', 'support:', round(e[key][3], 5))\n",
    "    c += 1\n"
   ]
  },
  {
   "cell_type": "markdown",
   "metadata": {},
   "source": [
    "# Using Kaggle Dataset\n",
    "* dataset used: [Association of shopping basket](https://www.kaggle.com/lalalalsa/association-of-shopping-basket/data)"
   ]
  },
  {
   "cell_type": "code",
   "execution_count": 4,
   "metadata": {},
   "outputs": [],
   "source": [
    "t = []\n",
    "with open('dataset_group.csv', newline='') as csvfile:\n",
    "    rows = csv.reader(csvfile)\n",
    "    with open('dataset2.txt', 'a') as f:\n",
    "        i = 1\n",
    "        for row in rows:\n",
    "    #         print(row[1])\n",
    "            if int(row[1]) == i:\n",
    "                f.write(row[2]+',')\n",
    "            elif int(row[1]) > i:\n",
    "                f.write('\\n')\n",
    "                i = int(row[1])"
   ]
  },
  {
   "cell_type": "code",
   "execution_count": 5,
   "metadata": {},
   "outputs": [],
   "source": [
    "transactions = [ [] ] * 1139\n",
    "item2id = {}\n",
    "with open('dataset2.txt', 'r') as f:\n",
    "    for n,l in enumerate(f):\n",
    "        transactions[n] =l.strip('\\n').strip(',').split(',')\n",
    "        \n",
    "id = 0\n",
    "for trans in transactions:\n",
    "    for item in trans:\n",
    "        if item in item2id.keys():\n",
    "            ;\n",
    "        else:\n",
    "            item2id[item] = id\n",
    "            id += 1\n",
    "\n",
    "for i in range(len(transactions)):\n",
    "    for j in range(len(transactions[i])):\n",
    "        transactions[i][j] = item2id[transactions[i][j]]\n",
    "        \n",
    "with open('dataset2id.txt', 'a') as f:\n",
    "    for i in range(len(transactions)):\n",
    "        for j in range(len(transactions[i])):\n",
    "            f.write(str(transactions[i][j]))\n",
    "            f.write(',')\n",
    "        f.write('\\n')\n",
    "        \n",
    "# pprint(transactions[1])"
   ]
  },
  {
   "cell_type": "markdown",
   "metadata": {},
   "source": [
    "## Apriori Algorithm\n",
    "support = 0.05(56.95/1139)\n",
    "confidence = 0.9"
   ]
  },
  {
   "cell_type": "code",
   "execution_count": 6,
   "metadata": {},
   "outputs": [],
   "source": [
    "model = apriori.Apriori(0.05, 0.9)\n",
    "rules = model.find_rules('dataset2id.txt')"
   ]
  },
  {
   "cell_type": "code",
   "execution_count": 16,
   "metadata": {},
   "outputs": [
    {
     "name": "stdout",
     "output_type": "stream",
     "text": [
      "Rule  1   ['laundry detergent', 'juice']  ->  vegetables  confidence: 95 % support: 0.06234\n",
      "Rule  2   ['laundry detergent', 'ice cream']  ->  vegetables  confidence: 95 % support: 0.06058\n",
      "Rule  3   ['dinner rolls', 'lunch meat']  ->  vegetables  confidence: 95 % support: 0.06058\n",
      "Rule  4   ['dinner rolls', 'bagels']  ->  vegetables  confidence: 95 % support: 0.05795\n",
      "Rule  5   ['dishwashing liquid/detergent', 'poultry']  ->  vegetables  confidence: 95 % support: 0.0755\n",
      "Rule  6   ['soap', 'hand soap']  ->  vegetables  confidence: 95 % support: 0.05443\n",
      "Rule  7   ['dinner rolls', 'eggs']  ->  vegetables  confidence: 95 % support: 0.0676\n"
     ]
    }
   ],
   "source": [
    "c = 1\n",
    "for keys in rules[:7]:\n",
    "    p = list(keys[0:1])\n",
    "    q = list(keys[1])\n",
    "    r = p[0]\n",
    "    \n",
    "    f_temp = [[]]*2\n",
    "    for search in item2id:\n",
    "            if str(item2id[search]) == str(r[-1]):\n",
    "                temp_imply = str(search)\n",
    "            else:\n",
    "                for i in range(len(r[:-2])):\n",
    "                    if str(item2id[search]) == str(r[i]):\n",
    "                        f_temp[i] = str(search)\n",
    "    print('Rule ', c, ' ', f_temp, ' -> ', temp_imply, ' confidence:', int(q[0]*100),'%', 'support:', round(q[1], 5))\n",
    "    c += 1"
   ]
  },
  {
   "cell_type": "markdown",
   "metadata": {},
   "source": [
    "## FP-growth\n",
    "support = 300\n",
    "confidence = 0.9"
   ]
  },
  {
   "cell_type": "code",
   "execution_count": 17,
   "metadata": {},
   "outputs": [],
   "source": [
    "rules = fpgrowth.fpgrowth(transactions, 300, 0.9, 1139)\n",
    "r = sorted(rules,reverse = True)"
   ]
  },
  {
   "cell_type": "code",
   "execution_count": 18,
   "metadata": {},
   "outputs": [
    {
     "name": "stdout",
     "output_type": "stream",
     "text": [
      "Rule  1  ( 'sandwich bags', 'cheeses' ) ->  vegetables  confidence: 92 % support: 0.56102\n",
      "Rule  2  ( 'soda', 'paper towels' ) ->  vegetables  confidence: 92 % support: 0.54609\n",
      "Rule  3  ( 'soda', 'eggs' ) ->  vegetables  confidence: 92 % support: 0.64969\n",
      "Rule  4  ( 'soda', 'shampoo' ) ->  vegetables  confidence: 92 % support: 0.54083\n",
      "Rule  5  ( 'poultry', 'eggs' ) ->  vegetables  confidence: 91 % support: 0.55926\n",
      "Rule  6  ( 'yogurt', 'cheeses' ) ->  vegetables  confidence: 90 % support: 0.54434\n",
      "Rule  7  ( 'soap', 'pasta' ) ->  vegetables  confidence: 90 % support: 0.5259\n"
     ]
    }
   ],
   "source": [
    "e = {}\n",
    "max = 0\n",
    "k = ''\n",
    "for i in range(len(rules)):\n",
    "    for key in rules:\n",
    "        if rules[key][2] > max:\n",
    "            max = rules[key][2]\n",
    "            k = key\n",
    "    e[i] = rules[k]\n",
    "    del rules[k]\n",
    "    max = 0\n",
    "\n",
    "c=0\n",
    "for key in e:\n",
    "    f = [[]]*2\n",
    "    if c < 7:\n",
    "        for search in item2id:\n",
    "            if item2id[search] == e[key][1][0]:\n",
    "                temp_implyitem = str(search)\n",
    "            else:\n",
    "                for i in range(len(e[key][0])):\n",
    "                    if item2id[search] == e[key][0][i]:\n",
    "                        f[i] = str(search)\n",
    "        print('Rule ', key+1, ' (',str(f).strip('[').strip(']'), ') -> ',temp_implyitem , ' confidence:', int((e[key][2]/2.2)*100), '%', 'support:', round(e[key][3], 5))\n",
    "    c += 1"
   ]
  }
 ],
 "metadata": {
  "kernelspec": {
   "display_name": "Python 3",
   "language": "python",
   "name": "python3"
  },
  "language_info": {
   "codemirror_mode": {
    "name": "ipython",
    "version": 3
   },
   "file_extension": ".py",
   "mimetype": "text/x-python",
   "name": "python",
   "nbconvert_exporter": "python",
   "pygments_lexer": "ipython3",
   "version": "3.5.2"
  }
 },
 "nbformat": 4,
 "nbformat_minor": 2
}
