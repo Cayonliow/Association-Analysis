{
 "cells": [
  {
   "cell_type": "markdown",
   "metadata": {},
   "source": [
    "# Association Analysis on Data Mining"
   ]
  },
  {
   "cell_type": "code",
   "execution_count": 1,
   "metadata": {},
   "outputs": [],
   "source": [
    "import numpy as np\n",
    "from pprint import pprint\n",
    "from decimal import *\n",
    "import apriori\n",
    "import fpgrowth\n",
    "from decimal import Decimal\n",
    "from collections import OrderedDict"
   ]
  },
  {
   "cell_type": "markdown",
   "metadata": {},
   "source": [
    "## Apriori Algorithm"
   ]
  },
  {
   "cell_type": "code",
   "execution_count": 2,
   "metadata": {},
   "outputs": [
    {
     "name": "stdout",
     "output_type": "stream",
     "text": [
      "Rule  1   ('472', '885')  ->  732  confidence: 94 % support: 0.10838\n",
      "Rule  2   ('472', '833')  ->  732  confidence: 94 % support: 0.10327\n",
      "Rule  3   ('732', '833')  ->  472  confidence: 93 % support: 0.10327\n",
      "Rule  4   ('833', '885')  ->  732  confidence: 93 % support: 0.10123\n",
      "Rule  5   ('732', '885')  ->  472  confidence: 92 % support: 0.10838\n",
      "Rule  6   ('472', '737')  ->  732  confidence: 92 % support: 0.10634\n",
      "Rule  7   ('472', '885')  ->  737  confidence: 91 % support: 0.10532\n"
     ]
    }
   ],
   "source": [
    "model = apriori.Apriori(0.1, 0.9)\n",
    "rules = model.find_rules('dataset.txt')\n",
    "c = 1\n",
    "for keys in rules[:7]:\n",
    "    p = list(keys[0:1])\n",
    "    q = list(keys[1])\n",
    "    r = p[0]\n",
    "    print('Rule ', c, ' ', r[:2], ' -> ', r[2:][0], ' confidence:', int(q[0]*100),'%', 'support:', round(q[1], 5))\n",
    "    c += 1"
   ]
  },
  {
   "cell_type": "markdown",
   "metadata": {},
   "source": [
    "## FP-growth"
   ]
  },
  {
   "cell_type": "code",
   "execution_count": 3,
   "metadata": {},
   "outputs": [
    {
     "name": "stdout",
     "output_type": "stream",
     "text": [
      "Rule  1   ('472', '833')  ->  732  confidence: 94 % support: 0.10327\n",
      "Rule  2   ('732', '833')  ->  472  confidence: 93 % support: 0.10327\n",
      "Rule  3   ('833', '885')  ->  732  confidence: 93 % support: 0.10123\n",
      "Rule  4   ('732', '885')  ->  472  confidence: 92 % support: 0.10838\n",
      "Rule  5   ('472', '737')  ->  732  confidence: 92 % support: 0.10634\n",
      "Rule  6   ('732', '833')  ->  885  confidence: 91 % support: 0.10123\n",
      "Rule  7   ('472', '732')  ->  885  confidence: 91 % support: 0.10838\n"
     ]
    }
   ],
   "source": [
    "transactions = [ [] ] * 978\n",
    "total = 0\n",
    "with open('dataset.txt') as f:\n",
    "    for n,l in enumerate(f):\n",
    "        total = n + 1\n",
    "        transactions[n] =l.strip('\\n').strip(' ').split(',')\n",
    "rules = fpgrowth.fpgrowth(transactions, 98, 0.9, total)\n",
    "r = sorted(rules,reverse = True)\n",
    "\n",
    "e = {}\n",
    "max = 0\n",
    "for i in range(len(rules)):\n",
    "    for key in rules:\n",
    "        if rules[key][2] > max:\n",
    "            max = rules[key][2]\n",
    "            k = key\n",
    "    e[i] = rules[k]\n",
    "    del rules[k]\n",
    "    max = 0\n",
    "\n",
    "c=0\n",
    "for key in e:\n",
    "    if c < 7:\n",
    "        print('Rule ', key+1, ' ', e[key][0], ' -> ', e[key][1][0], ' confidence:', int(e[key][2]*100), '%', 'support:', round(e[key][3], 5))\n",
    "    c += 1\n"
   ]
  }
 ],
 "metadata": {
  "kernelspec": {
   "display_name": "Python 3",
   "language": "python",
   "name": "python3"
  },
  "language_info": {
   "codemirror_mode": {
    "name": "ipython",
    "version": 3
   },
   "file_extension": ".py",
   "mimetype": "text/x-python",
   "name": "python",
   "nbconvert_exporter": "python",
   "pygments_lexer": "ipython3",
   "version": "3.5.2"
  }
 },
 "nbformat": 4,
 "nbformat_minor": 2
}
