{
 "cells": [
  {
   "cell_type": "markdown",
   "metadata": {},
   "source": [
    "# Association Analysis by Apriori Algorithm\n",
    "dataset: IBM-Quest-Data-Generaton\n",
    "reference:[用Numpy實現高效的Apriori算法](https://hk.saowen.com/a/1f0411f543fbdb2cb7a27698a55920cf72a41bf9f09bb2af68b714d0fdf43b5b), [唐磊的个人博客\n",
    "](https://www.tanglei.name/blog/apriori-algorithm-in-python.html), [Apriori——python3實現](https://hk.saowen.com/a/eb213191098240d6b33f4b86106457bc099c8bc0782240f1f7afba7a05c32537)"
   ]
  },
  {
   "cell_type": "code",
   "execution_count": 45,
   "metadata": {},
   "outputs": [],
   "source": [
    "import numpy as np\n",
    "from pprint import pprint"
   ]
  },
  {
   "cell_type": "markdown",
   "metadata": {},
   "source": [
    "## Apriori Algorithm\n",
    "### component\n",
    "* support_threshold\n",
    "* confidence_threshold\n",
    "* total = total transactions\n",
    "\n",
    "### function \n",
    "* `count(items)`\n",
    "    * count the number of appearance of item in every transaction\n",
    "* `find_rules(filename)`\n",
    "    * find out the association rule of the transaction"
   ]
  },
  {
   "cell_type": "code",
   "execution_count": 46,
   "metadata": {},
   "outputs": [],
   "source": [
    "class Apriori:\n",
    "    def __init__(self, support_threshold, confidence_threshold):\n",
    "        self.support_threshold = support_threshold \n",
    "        self.confidence_threshold = confidence_threshold\n",
    "\n",
    "    def count(self, filename):\n",
    "        self.total = 0 \n",
    "        items = {}\n",
    "\n",
    "        with open(filename) as f:\n",
    "            for transaction in f:\n",
    "                self.total += 1\n",
    "                for i in transaction.strip().split(','):\n",
    "                    if i in items:\n",
    "                        items[i] += 1.\n",
    "                    else:\n",
    "                        items[i] = 1.\n",
    "            \n",
    "        self.items = {i:j/self.total for i,j in items.items() if j/self.total > self.support_threshold}\n",
    "        self.item2id = {j:i for i,j in enumerate(self.items)}\n",
    "        self.D = np.zeros((self.total, len(items)), dtype=bool)\n",
    "        \n",
    "        with open(filename) as f:\n",
    "            for n,transaction in enumerate(f):\n",
    "                for i in transaction.strip().split(','):\n",
    "                    if i in self.items:\n",
    "                        self.D[n, self.item2id[i]] = True\n",
    "\n",
    "    def find_rules(self, filename):\n",
    "        self.count(filename)\n",
    "        rules = [{(i,):j for i,j in self.items.items()}]\n",
    "        l = 0\n",
    "        while rules[-1]:\n",
    "            rules.append({})\n",
    "            keys = sorted(rules[-2].keys())\n",
    "#             print('keys = =',keys)\n",
    "            num = len(rules[-2])\n",
    "#             print(num)\n",
    "#             print(len(rules))\n",
    "            l += 1\n",
    "            for i in range(num):\n",
    "                for j in range(i+1,num):\n",
    "#                     print(keys[i][:l-1],keys[j][:l-1])\n",
    "                    if keys[i][:l-1] == keys[j][:l-1]:\n",
    "#                         print('i', i, 'j', j, 'keys[i] + (keys[j][l-1],)', keys[i], (keys[j][l-1]), keys[j])\n",
    "                        _ = keys[i] + (keys[j][l-1],)\n",
    "#                         print('_=', _)\n",
    "                        _id = [self.item2id[k] for k in _]\n",
    "#                         print('_id = ',_id)\n",
    "#                         print('self.D[:, _id] = ',self.D[:, _id])\n",
    "                        support = 1. * sum(np.prod(self.D[:, _id], 1)) / self.total\n",
    "                        if support > self.support_threshold:\n",
    "                            rules[-1][_] = support\n",
    "        \n",
    "#         pprint(rules)\n",
    "        result = {}\n",
    "        for n,j in enumerate(rules[1:]):\n",
    "            for r,v in j.items():\n",
    "                for i,_ in enumerate(r): # find association rule\n",
    "                    x = r[:i] + r[i+1:]\n",
    "                    if v / rules[n][x] > self.confidence_threshold:\n",
    "                        result[x+(r[i],)] = (v / rules[n][x], v)\n",
    "#                         print(result[x+(r[i],)], (confidence, v))\n",
    "\n",
    "        return sorted(result.items(), key=lambda x: -x[1][0])"
   ]
  },
  {
   "cell_type": "code",
   "execution_count": 47,
   "metadata": {
    "scrolled": true
   },
   "outputs": [
    {
     "name": "stdout",
     "output_type": "stream",
     "text": [
      "[(('472', '885', '732'), (0.9464285714285714, 0.1083844580777096)),\n",
      " (('472', '833', '732'), (0.9439252336448599, 0.1032719836400818)),\n",
      " (('732', '833', '472'), (0.9351851851851852, 0.1032719836400818)),\n",
      " (('833', '885', '732'), (0.9339622641509434, 0.10122699386503067)),\n",
      " (('732', '885', '472'), (0.9298245614035088, 0.1083844580777096))]\n"
     ]
    }
   ],
   "source": [
    "model = Apriori(0.1, 0.9)\n",
    "rules = model.find_rules('dataset.txt')\n",
    "pprint(rules[:5])"
   ]
  }
 ],
 "metadata": {
  "kernelspec": {
   "display_name": "Python 3",
   "language": "python",
   "name": "python3"
  },
  "language_info": {
   "codemirror_mode": {
    "name": "ipython",
    "version": 3
   },
   "file_extension": ".py",
   "mimetype": "text/x-python",
   "name": "python",
   "nbconvert_exporter": "python",
   "pygments_lexer": "ipython3",
   "version": "3.5.2"
  }
 },
 "nbformat": 4,
 "nbformat_minor": 2
}
